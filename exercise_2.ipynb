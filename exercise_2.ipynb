{
 "cells": [
  {
   "cell_type": "markdown",
   "id": "2fe37a8acc39b81b",
   "metadata": {},
   "source": [
    "### Worksheet 2"
   ]
  },
  {
   "cell_type": "code",
   "execution_count": 2,
   "id": "initial_id",
   "metadata": {
    "ExecuteTime": {
     "end_time": "2024-11-05T12:52:31.241953Z",
     "start_time": "2024-11-05T12:52:31.232389Z"
    }
   },
   "outputs": [],
   "source": [
    "import numpy as np\n",
    "import matplotlib.pyplot as plt\n",
    "from typing import Callable, Union"
   ]
  },
  {
   "cell_type": "markdown",
   "id": "599f64081ee30c33",
   "metadata": {},
   "source": [
    "### Problem 1\n",
    "$$\\min_{x \\in R}(1-\\frac{1}{2}x^2) * e^{-\\frac{1}{2}x^2}$$\n",
    "\n"
   ]
  },
  {
   "cell_type": "markdown",
   "id": "7c2c068c46f34088",
   "metadata": {},
   "source": [
    "\n",
    "**Problem 1a**\n",
    "\n",
    "Computing the first and second derivative with respect to x\n",
    "\n",
    "Let  $f(x) = (1-\\frac{1}{2}x^2)  e^{-\\frac{1}{2}x^2}$ and $u = -\\frac{1}{2}x^2$\n",
    "\n",
    "Hence, $$f(u) = (1+u)e^u$$\n",
    "By Chain rule, we note that: $$\\frac{\\delta f}{\\delta x} = \\frac{\\delta f}{\\delta u} \\frac{\\delta u}{\\delta x}$$\n",
    "Now we solve:\n",
    "$$\\frac{\\delta f}{\\delta u} = e^u + e^u(1+u)$$\n",
    "$$\\frac{\\delta f}{\\delta u}=2e^u+ue^u$$\n",
    "$$\\frac{\\delta u}{\\delta x} = -x$$\n",
    "Therefore, By chain rule and substituting $u$ by $-\\frac{1}{2}x^2$ we obtain:\n",
    "$$\\frac{\\delta f}{\\delta x} = xe^{\\frac{-x^2}{2}}\\frac{x^2-4}{2}=e^{\\frac{-x^2}{2}}(\\frac{x^3}{2}-2x)$$\n",
    "\n"
   ]
  },
  {
   "cell_type": "markdown",
   "id": "8802825f-5b35-4987-b7a5-0336705e8707",
   "metadata": {},
   "source": [
    "Now, having solved the first derivative, we can solve for the second derivative.\n",
    "This is given by:\n",
    "\n",
    "$$\\frac{\\delta^2f}{\\delta x^2}= e^{\\frac{-x^2}{2}}\\frac{-x^4+7x^2-4}{2}$$\n",
    "***"
   ]
  },
  {
   "cell_type": "markdown",
   "id": "7e80dcbbd9d701f8",
   "metadata": {},
   "source": [
    "**Problem 1b**\n",
    "\n",
    "Set the derivative equal to 0 and solve for x\n",
    "\n",
    "Setting the derivative equal to 0 we get:\n",
    "$$e^{\\frac{-x^2}{2}}(\\frac{x^3}{2}-2x)=0$$\n",
    "$$\\frac{x^3}{2}-2x=0$$\n",
    "$$x(x-2)(x+2)=0$$\n",
    "\n",
    "Hence, the possible values for $x$ include: $x=0,x=-2,x=2$\n",
    "***\n"
   ]
  },
  {
   "cell_type": "markdown",
   "id": "6792d160ee16afcc",
   "metadata": {},
   "source": [
    "**Problem 1c**\n",
    "\n",
    "Inspect the second derivative and identify local minima\n",
    "\n",
    "At $x=0$, the second derivative = -2 < 0 \n",
    "\n",
    "At $x=2$, the second derivative is greater than 0\n",
    "\n",
    "At $x=-2$ the second derivative is also greater than 0.\n",
    "\n",
    "Therefore, the function have two local minima at $x=2$ and $x=-2$\n",
    "***\n"
   ]
  },
  {
   "cell_type": "markdown",
   "id": "69b622047cd4a8d7",
   "metadata": {},
   "source": [
    "**Problem 1d**\n",
    "\n",
    "Since the domain of the function is unbounded in the real numbers, we note that the two local minima are also global minima.\n",
    "***"
   ]
  },
  {
   "cell_type": "markdown",
   "id": "627199ffa198e9e6",
   "metadata": {},
   "source": [
    "### Problem 2\n",
    "\n",
    "Given that $a,b,x \\in \\mathbb{R^2}$ and $\\theta (x) = \\angle (\\bar{bx}, \\bar{ba})$ be the angle around $b$ between $x$ and $a$. We will now find the gradient of $\\theta$. \n",
    "\n",
    "For easier notation, we will set: $$v_1=\\bar{bx}$$ $$v_2=\\bar{ba}$$\n",
    "\n",
    "We note that, since $\\theta$ is a function of $x$, then $x$ is the variable that is changing while $a$ and $b$ are constant. This means that the vector $v_1$ might vary while $v_2$ remains constant.\n",
    "\n",
    "Now, suppose we rotate $v_1$ $360\\degree$ arount $b$ while making sure that the angle between $v_1$ and $v_2$ is not changed, we will notice that, we will create a circle around $b$. \n",
    "\n",
    "This means that, any point on the circle is a point where $\\theta(x)$ is unchanged if $v_1$ moves along the point. \n",
    "\n",
    "This means that the gradient of the function is orthogonal to $v_1$. We note that vectors orthogonal to $v_1$ can face inwards into (into the circle) or outwards. \n",
    "\n",
    "We also note that, moving inwards into the circle would degrease the function $\\theta(x)$.\n",
    "\n",
    "Therefore, suppose $v_1 = \\begin{bmatrix} w_1 \\\\ w_2 \\end{bmatrix}$ where $w_1$ and $w_2$ are $x$ and $y$ components of the vector respectively.\n",
    "\n",
    "A vector orthogonal to $v_1$ is $\\begin{bmatrix} -w_2 \\\\ w_1 \\end{bmatrix}$\n",
    "\n",
    "Therefore, $\\nabla_x\\theta(x)= \\begin{bmatrix} -w_2 \\\\ w_1 \\end{bmatrix}$ "
   ]
  },
  {
   "cell_type": "markdown",
   "id": "ece556f68920b7b6",
   "metadata": {},
   "source": [
    "### Problem 3\n",
    "\n",
    "*3a*\n",
    "Given: $$f(x)=tanh((x+1.0)(x-0.8)(x+0.1))$$\n",
    "$$d(t) = \\frac{f(t)-f(0)}{t}$$\n",
    "Upon calculation, we find the derivative of $f$ is given by:\n",
    "$$f'(x) = \\frac{3(x^2+0.2x-0.6)}{cosh((x-0.8)(x+0.1)(x+1)}$$\n"
   ]
  },
  {
   "cell_type": "code",
   "execution_count": 19,
   "id": "98f9a7e84ac8d8f0",
   "metadata": {
    "ExecuteTime": {
     "end_time": "2024-11-04T18:41:26.580107Z",
     "start_time": "2024-11-04T18:41:26.573935Z"
    }
   },
   "outputs": [],
   "source": [
    "def f(x: Union[float, np.array]):\n",
    "    \"\"\"\n",
    "    calculates f(t) as given in the function\n",
    "    \"\"\"\n",
    "    product = (x+1.0)*(x-0.8)*(x+0.1)\n",
    "    return np.tanh(product)\n",
    "\n",
    "def d(t):\n",
    "    return (f(t)-f(0))/t\n",
    "\n",
    "def f_dash_x(x):\n",
    "    \"\"\"\n",
    "    Calculates the derivative of f at point x\n",
    "    \"\"\"\n",
    "    return 3*(x**2+0.2*x-0.26)*(1/np.cosh((x-0.8)*(x+0.1)*(x+1))**2)\n",
    "\n",
    "def grad(f: Callable, point: float, step_size: float=1e-9) -> float:\n",
    "    \"\"\"\n",
    "    numerically computes the gradient of f at a point. I will be using taylor approximation for this...\n",
    "    #TODO: Probably remove this? idk. am not using it for now.\n",
    "    \"\"\"\n",
    "    f_x = f(point)\n",
    "    f_x_plus_1 = f(point+step_size)\n",
    "    return (f_x_plus_1 - f_x) / step_size"
   ]
  },
  {
   "cell_type": "code",
   "execution_count": 14,
   "id": "113596314b7753b1",
   "metadata": {
    "ExecuteTime": {
     "end_time": "2024-11-04T18:41:27.169725Z",
     "start_time": "2024-11-04T18:41:27.163878Z"
    }
   },
   "outputs": [],
   "source": [
    "t = np.linspace(-5, 5, 100000)\n",
    "d_t = d(t)\n",
    "f_x = f(t)\n",
    "f_dash_0 = f_dash_x(0)"
   ]
  },
  {
   "cell_type": "code",
   "execution_count": 15,
   "id": "b7d48e4780ea5bd4",
   "metadata": {
    "ExecuteTime": {
     "end_time": "2024-11-04T18:41:27.880918Z",
     "start_time": "2024-11-04T18:41:27.730832Z"
    }
   },
   "outputs": [
    {
     "data": {
      "image/png": "[encoded data removed]",
      "text/plain": [
       "<Figure size 640x480 with 1 Axes>"
      ]
     },
     "metadata": {},
     "output_type": "display_data"
    }
   ],
   "source": [
    "plt.scatter(0, f_dash_0, marker=\"*\", color = \"black\", label = \"f'(0)\")\n",
    "plt.plot(t, d_t, label = \"d(t)\")\n",
    "plt.xlabel(\"t\")\n",
    "plt.ylabel(\"d(t)\")\n",
    "plt.title(\"A plot of d(t)\")\n",
    "plt.legend()\n",
    "plt.show()"
   ]
  },
  {
   "cell_type": "markdown",
   "id": "90c456cef7ab914b",
   "metadata": {},
   "source": [
    "**Notes on values of d close to 0**\n",
    "- We note that $d(0)$ is undefined. This means that the function $d(t)$ is assymptotically approaching 0 in the positive and negative directions as shown in the plot above\n",
    "- The minimum of d(t) is close to the $f'(0)$. It is a good approximation of the derivating of f at point 0.\n",
    "\n",
    "***\n",
    "\n",
    "\n"
   ]
  },
  {
   "cell_type": "markdown",
   "id": "de1098e5247b8c3a",
   "metadata": {},
   "source": [
    "#### Question 3b\n",
    "\n",
    " Proof that if $f$ is a continous differentiable function and $f'(x_0)\\neq 0$ then there exist an $\\eta$ >0 such that $f(x_0)>f(x_0 - \\eta f'(x_0)$.\n",
    "\n",
    "Suppose that such a function existed.\n",
    "We note that $f'(x_0)$ is the slope of the function at point $x_0$. This means that $f'(x_0)$ gives the direction with the greatest change in the function $f$ at point $x_0$.\n",
    "\n",
    "Therefore, if we evaluate the function $f(x_0 - \\eta f'(x_0)$, we will be moving in the direction of steepest descent of our function $f$ at point $x_0$ up to a certain threshold for the value of $\\eta$. Therefore, there will always be a choice of $\\eta$ for which $f(x_0)>f(x_0 - \\eta f'(x_0)$ holds.\n",
    "***\n"
   ]
  },
  {
   "cell_type": "markdown",
   "id": "39143543731ca9b4",
   "metadata": {},
   "source": [
    "\n",
    "#### Question 3c\n",
    "\n",
    "Proof that assuming $\\nabla_x f(x_0) \\neq 0$, then there exist an $\\eta>0$ such that $f(x_0) > f(x_0 - \\eta \\nabla_x f(x_0))$\n",
    "\n",
    "We note that this question is similar to $3b$ except it is in not limited to one dimension. The explaination is therefore very similar.\n",
    "\n",
    "The gradient vector $\\nabla_x f(x_0)$ will provide the direction of the largest change in the function at point $x_0$. therefore, if we know the direction of the largest change in the function, we can move in the direction of negative gradient as this will lead to us moving towards a lower point in the function space.\n",
    "\n",
    "Therefore, if we choose a small enough $\\eta$, we are guaranteed to land in a lower value of the function. Hence there exist a number $\\eta$ such tyhat  $f(x_0) > f(x_0 - \\eta \\nabla_x f(x_0))$ holds.\n",
    "\n",
    "***"
   ]
  },
  {
   "cell_type": "markdown",
   "id": "93eb81855cb234cf",
   "metadata": {},
   "source": [
    "\n",
    "#### Question 3d\n",
    "\n",
    "Goal: Given the function $f$ defined below, compute the gradient at point (0.1, 5)\n",
    "$$f(x_1, x_2) = \\frac{x_1 ^ 2 + x_2^2}{100}-\\frac{cos(3x_1-3x_2)+cos(3x_1+3x_2)}{2}$$\n",
    "\n",
    "Upon calculation, we get:\n",
    "\n",
    "$$\\nabla f(x_1,x_2)=  \\begin{pmatrix}\n",
    "\\frac{75 \\sin\\left(3x_{1} + 3x_{2}\\right) + 75 \\sin\\left(3x_{1} - 3x_{2}\\right) + x_{1}}{50}\\\\\n",
    "\\frac{75 \\sin\\left(3x_{2} + 3x_{1}\\right) + 75 \\sin\\left(3x_{2} - 3x_{1}\\right) + x_{2}}{50}\n",
    "\\end{pmatrix}\n",
    "$$\n",
    "\n",
    "The code cell below gives us functions to the gradient at point $(0.1,5)$\n"
   ]
  },
  {
   "cell_type": "code",
   "execution_count": 16,
   "id": "bf2cd60bdaac96f6",
   "metadata": {
    "ExecuteTime": {
     "end_time": "2024-11-04T20:23:32.397706Z",
     "start_time": "2024-11-04T20:23:32.374168Z"
    }
   },
   "outputs": [
    {
     "name": "stdout",
     "output_type": "stream",
     "text": [
      "Gradient vector: [-0.67150939  1.96373111]\n"
     ]
    }
   ],
   "source": [
    "def f(x_1, x_2):\n",
    "    square_sums = x_1**2 + x_2**2\n",
    "    cos_sums = np.cos(3*x_1 - 3*x_2) + np.cos(3*x_1 + 3*x_2)\n",
    "    out = (square_sums/100)- (cos_sums/2)\n",
    "    return out\n",
    "\n",
    "def grad_with_respect_to_x1(x_1, x_2):\n",
    "    return (75 * np.sin(3 * x_1 + 3 * x_2) + 75 * np.sin(3 * x_1 - 3 * x_2) + x_1) / 50\n",
    "\n",
    "def grad_with_respect_to_x2(x_1, x_2):\n",
    "    return (75 * np.sin(3 * x_2 + 3 * x_1) + 75 * np.sin(3 * x_2 - 3 * x_1) + x_2) / 50\n",
    "\n",
    "gradient_vector = np.array([grad_with_respect_to_x1(0.1, 5), grad_with_respect_to_x2(0.1, 5)])\n",
    "print(f\"Gradient vector: {gradient_vector}\")"
   ]
  },
  {
   "cell_type": "markdown",
   "id": "e0028ad0fcf45ebf",
   "metadata": {},
   "source": [
    "From the code above we see that:\n",
    "$$\\nabla f(0.1, 5) = \\begin{pmatrix}\n",
    "                       -0.6715093870184832 \\\\\n",
    "                       1.9637311064103196\n",
    "                      \\end{pmatrix}$$\n",
    "\n",
    "Having shown this. the code cell below will plot the function $g(t)=f(x_0+t \\nabla_x f(x_0)$"
   ]
  },
  {
   "cell_type": "code",
   "execution_count": 18,
   "id": "e07ba6dfed9f2b5e",
   "metadata": {
    "ExecuteTime": {
     "end_time": "2024-11-04T20:23:38.304659Z",
     "start_time": "2024-11-04T20:23:38.113979Z"
    }
   },
   "outputs": [
    {
     "data": {
      "image/png": "[encoded data removed]",
      "text/plain": [
       "<Figure size 640x480 with 1 Axes>"
      ]
     },
     "metadata": {},
     "output_type": "display_data"
    }
   ],
   "source": [
    "x_dash_1 = gradient_vector[0]\n",
    "x_dash_2 = gradient_vector[1]\n",
    "\n",
    "\n",
    "t = np.linspace(-1, 1, 100000)\n",
    "f_t = f(t, t)\n",
    "def g(t_):\n",
    "    new_t = t_[:, np.newaxis]*gradient_vector + np.array([0.1, 5])\n",
    "    g_t = f(new_t[:,0], new_t[:,1])\n",
    "    return g_t\n",
    "\n",
    "plt.plot(t, g(t), label = \"g(t)\")\n",
    "# plt.plot(t, f(t, t), label = \"f(t, t)\")\n",
    "# plt.scatter(x_dash_1, x_dash_2, marker=\"*\", color = \"black\")\n",
    "plt.legend()\n",
    "plt.show()"
   ]
  },
  {
   "cell_type": "markdown",
   "id": "63a86e3826d9d457",
   "metadata": {},
   "source": [
    "***\n",
    "### PROBLEM 4\n"
   ]
  }
 ],
 "metadata": {
  "kernelspec": {
   "display_name": "Python 3 (ipykernel)",
   "language": "python",
   "name": "python3"
  },
  "language_info": {
   "codemirror_mode": {
    "name": "ipython",
    "version": 3
   },
   "file_extension": ".py",
   "mimetype": "text/x-python",
   "name": "python",
   "nbconvert_exporter": "python",
   "pygments_lexer": "ipython3",
   "version": "3.12.4"
  }
 },
 "nbformat": 4,
 "nbformat_minor": 5
}
